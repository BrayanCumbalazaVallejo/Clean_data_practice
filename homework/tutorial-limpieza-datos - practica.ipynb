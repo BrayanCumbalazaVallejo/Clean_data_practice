{
 "cells": [
  {
   "cell_type": "markdown",
   "metadata": {
    "id": "Sz8ogFjl7a8b"
   },
   "source": [
    "# TUTORIAL: LIMPIEZA DE DATOS CON PYTHON Y PANDAS"
   ]
  },
  {
   "cell_type": "markdown",
   "metadata": {
    "id": "jYJxCZNZDfYe"
   },
   "source": [
    "# 1. El problema del negocio\n",
    "\n",
    "Una entidad bancaria contrata a una empresa de marketing encargada de contactar telefónicamente a posibles clientes para determinar si están interesados o no en adquirir un certificado de depósito a término con el banco.\n",
    "\n",
    "¿Qué perfil tienen los clientes con mayor potencial de conversión?"
   ]
  },
  {
   "cell_type": "markdown",
   "metadata": {
    "id": "4WOEkmPt7aHf"
   },
   "source": [
    "#2. El set de datos\n",
    "\n",
    "La información recolectada por la empresa de mercadeo se encuentra en un archivo CSV (`dataset_banco.csv`) con 45215 filas y 17 columnas.\n",
    "\n",
    "Cada registro contiene 16 características (las primeras 16 columnas) y una categoría (\"yes\" o \"no\" dependiendo de si la persona está o no interesada en adquirir el producto). Las columnas son:\n",
    "\n",
    "1. \"age\":  edad (numérica)\n",
    "2. \"job\": tipo de trabajo (categórica: \"admin.\", \"unknown\", \"unemployed\", \"management\", \"housemaid\", \"entrepreneur\", \"student\", \"blue-collar\",\"self-employed\", \"retired\", \"technician\", \"services\")\n",
    "3. \"marital\": estado civil (categórica: \"married\", \"divorced\", \"single\")\n",
    "4. \"education\": nivel educativo (categórica: \"unknown\", \"secondary\", \"primary\", \"tertiary\")\n",
    "5. \"default\": si dejó de pagar sus obligaciones (categórica: \"yes\", \"no\")\n",
    "6. \"balance\": saldo promedio anual en euros (numérica)\n",
    "7. \"housing\": ¿tiene o no crédito hipotecario? (categórica: \"yes\", \"no\")\n",
    "8. \"loan\": ¿tiene créditos de consumo? (categórica: \"yes\", \"no\")\n",
    "9. \"contact\": medio a través del cual fue contactado (categórica: \"unknown\", \"telephone\", \"cellular\")\n",
    "10. \"day\": último día del mes en el que fue contactada (numérica)\n",
    "11. \"month\": último mes en el que fue contactada (categórica: \"jan\", \"feb\", \"mar\", ..., \"nov\", \"dec\")\n",
    "12. \"duration\": duración (en segundos) del último contacto (numérica)\n",
    "13. \"campaign\": número total de veces que fue contactada durante la campaña (numérica)\n",
    "14. \"pdays\": número de días transcurridos después de haber sido contactado antes de la campaña actual (numérica. -1 indica que no fue contactado previamente)\n",
    "15. \"previous\": número de veces que ha sido contactada antes de esta campaña (numérica)\n",
    "16. \"poutcome\": resultado de la campaña de marketing anterior (categórica: \"unknown\", \"other\", \"failure\", \"success\")\n",
    "17. \"y\": categoría ¿el cliente se suscribió a un depósito a término? (categórica: \"yes\", \"no\")"
   ]
  },
  {
   "cell_type": "markdown",
   "metadata": {
    "id": "7wXHT_PLEFkr"
   },
   "source": [
    "#3. Una primera mirada al dataset"
   ]
  },
  {
   "cell_type": "code",
   "execution_count": 1,
   "metadata": {
    "executionInfo": {
     "elapsed": 1734,
     "status": "ok",
     "timestamp": 1741636497101,
     "user": {
      "displayName": "Paula Andrea Jaramillo Roldan",
      "userId": "10722331574903959237"
     },
     "user_tz": 300
    },
    "id": "SQ_-SdsX7enM"
   },
   "outputs": [],
   "source": [
    "# Importar librerías\n",
    "import pandas as pd\n",
    "import matplotlib.pyplot as plt\n",
    "import seaborn as sns"
   ]
  },
  {
   "cell_type": "code",
   "execution_count": 2,
   "metadata": {
    "colab": {
     "base_uri": "https://localhost:8080/",
     "height": 321
    },
    "executionInfo": {
     "elapsed": 16,
     "status": "error",
     "timestamp": 1741636541568,
     "user": {
      "displayName": "Paula Andrea Jaramillo Roldan",
      "userId": "10722331574903959237"
     },
     "user_tz": 300
    },
    "id": "yECOD3UAEV-a",
    "outputId": "71e1186c-05df-43ee-bd90-1f8de46162bf"
   },
   "outputs": [
    {
     "data": {
      "application/vnd.microsoft.datawrangler.viewer.v0+json": {
       "columns": [
        {
         "name": "index",
         "rawType": "int64",
         "type": "integer"
        },
        {
         "name": "age",
         "rawType": "int64",
         "type": "integer"
        },
        {
         "name": "job",
         "rawType": "object",
         "type": "string"
        },
        {
         "name": "marital",
         "rawType": "object",
         "type": "string"
        },
        {
         "name": "education",
         "rawType": "object",
         "type": "string"
        },
        {
         "name": "default",
         "rawType": "object",
         "type": "string"
        },
        {
         "name": "balance",
         "rawType": "float64",
         "type": "float"
        },
        {
         "name": "housing",
         "rawType": "object",
         "type": "string"
        },
        {
         "name": "loan",
         "rawType": "object",
         "type": "string"
        },
        {
         "name": "contact",
         "rawType": "object",
         "type": "string"
        },
        {
         "name": "day",
         "rawType": "int64",
         "type": "integer"
        },
        {
         "name": "month",
         "rawType": "object",
         "type": "string"
        },
        {
         "name": "duration",
         "rawType": "float64",
         "type": "float"
        },
        {
         "name": "campaign",
         "rawType": "int64",
         "type": "integer"
        },
        {
         "name": "pdays",
         "rawType": "float64",
         "type": "float"
        },
        {
         "name": "previous",
         "rawType": "int64",
         "type": "integer"
        },
        {
         "name": "poutcome",
         "rawType": "object",
         "type": "string"
        },
        {
         "name": "y",
         "rawType": "object",
         "type": "string"
        }
       ],
       "conversionMethod": "pd.DataFrame",
       "ref": "db0d0320-72ad-4587-99e2-101f16041caa",
       "rows": [
        [
         "0",
         "58",
         "management",
         "married",
         "tertiary",
         "no",
         "2143.0",
         "yes",
         "no",
         "unknown",
         "5",
         "may",
         "261.0",
         "1",
         "-1.0",
         "0",
         "unknown",
         "no"
        ],
        [
         "1",
         "44",
         "technician",
         "single",
         "secondary",
         "no",
         "29.0",
         "yes",
         "no",
         "unknown",
         "5",
         "may",
         "151.0",
         "1",
         "-1.0",
         "0",
         "unknown",
         "no"
        ],
        [
         "2",
         "33",
         "entrepreneur",
         "married",
         "secondary",
         "no",
         "2.0",
         "yes",
         "yes",
         "unknown",
         "5",
         "may",
         "76.0",
         "1",
         "-1.0",
         "0",
         "unknown",
         "no"
        ],
        [
         "3",
         "47",
         "blue-collar",
         "married",
         "unknown",
         "no",
         "1506.0",
         "yes",
         "no",
         "unknown",
         "5",
         "may",
         "92.0",
         "1",
         "-1.0",
         "0",
         "unknown",
         "no"
        ],
        [
         "4",
         "33",
         "unknown",
         "single",
         "unknown",
         "no",
         "1.0",
         "no",
         "no",
         "unknown",
         "5",
         "may",
         "198.0",
         "1",
         "-1.0",
         "0",
         "unknown",
         "no"
        ]
       ],
       "shape": {
        "columns": 17,
        "rows": 5
       }
      },
      "text/html": [
       "<div>\n",
       "<style scoped>\n",
       "    .dataframe tbody tr th:only-of-type {\n",
       "        vertical-align: middle;\n",
       "    }\n",
       "\n",
       "    .dataframe tbody tr th {\n",
       "        vertical-align: top;\n",
       "    }\n",
       "\n",
       "    .dataframe thead th {\n",
       "        text-align: right;\n",
       "    }\n",
       "</style>\n",
       "<table border=\"1\" class=\"dataframe\">\n",
       "  <thead>\n",
       "    <tr style=\"text-align: right;\">\n",
       "      <th></th>\n",
       "      <th>age</th>\n",
       "      <th>job</th>\n",
       "      <th>marital</th>\n",
       "      <th>education</th>\n",
       "      <th>default</th>\n",
       "      <th>balance</th>\n",
       "      <th>housing</th>\n",
       "      <th>loan</th>\n",
       "      <th>contact</th>\n",
       "      <th>day</th>\n",
       "      <th>month</th>\n",
       "      <th>duration</th>\n",
       "      <th>campaign</th>\n",
       "      <th>pdays</th>\n",
       "      <th>previous</th>\n",
       "      <th>poutcome</th>\n",
       "      <th>y</th>\n",
       "    </tr>\n",
       "  </thead>\n",
       "  <tbody>\n",
       "    <tr>\n",
       "      <th>0</th>\n",
       "      <td>58</td>\n",
       "      <td>management</td>\n",
       "      <td>married</td>\n",
       "      <td>tertiary</td>\n",
       "      <td>no</td>\n",
       "      <td>2143.0</td>\n",
       "      <td>yes</td>\n",
       "      <td>no</td>\n",
       "      <td>unknown</td>\n",
       "      <td>5</td>\n",
       "      <td>may</td>\n",
       "      <td>261.0</td>\n",
       "      <td>1</td>\n",
       "      <td>-1.0</td>\n",
       "      <td>0</td>\n",
       "      <td>unknown</td>\n",
       "      <td>no</td>\n",
       "    </tr>\n",
       "    <tr>\n",
       "      <th>1</th>\n",
       "      <td>44</td>\n",
       "      <td>technician</td>\n",
       "      <td>single</td>\n",
       "      <td>secondary</td>\n",
       "      <td>no</td>\n",
       "      <td>29.0</td>\n",
       "      <td>yes</td>\n",
       "      <td>no</td>\n",
       "      <td>unknown</td>\n",
       "      <td>5</td>\n",
       "      <td>may</td>\n",
       "      <td>151.0</td>\n",
       "      <td>1</td>\n",
       "      <td>-1.0</td>\n",
       "      <td>0</td>\n",
       "      <td>unknown</td>\n",
       "      <td>no</td>\n",
       "    </tr>\n",
       "    <tr>\n",
       "      <th>2</th>\n",
       "      <td>33</td>\n",
       "      <td>entrepreneur</td>\n",
       "      <td>married</td>\n",
       "      <td>secondary</td>\n",
       "      <td>no</td>\n",
       "      <td>2.0</td>\n",
       "      <td>yes</td>\n",
       "      <td>yes</td>\n",
       "      <td>unknown</td>\n",
       "      <td>5</td>\n",
       "      <td>may</td>\n",
       "      <td>76.0</td>\n",
       "      <td>1</td>\n",
       "      <td>-1.0</td>\n",
       "      <td>0</td>\n",
       "      <td>unknown</td>\n",
       "      <td>no</td>\n",
       "    </tr>\n",
       "    <tr>\n",
       "      <th>3</th>\n",
       "      <td>47</td>\n",
       "      <td>blue-collar</td>\n",
       "      <td>married</td>\n",
       "      <td>unknown</td>\n",
       "      <td>no</td>\n",
       "      <td>1506.0</td>\n",
       "      <td>yes</td>\n",
       "      <td>no</td>\n",
       "      <td>unknown</td>\n",
       "      <td>5</td>\n",
       "      <td>may</td>\n",
       "      <td>92.0</td>\n",
       "      <td>1</td>\n",
       "      <td>-1.0</td>\n",
       "      <td>0</td>\n",
       "      <td>unknown</td>\n",
       "      <td>no</td>\n",
       "    </tr>\n",
       "    <tr>\n",
       "      <th>4</th>\n",
       "      <td>33</td>\n",
       "      <td>unknown</td>\n",
       "      <td>single</td>\n",
       "      <td>unknown</td>\n",
       "      <td>no</td>\n",
       "      <td>1.0</td>\n",
       "      <td>no</td>\n",
       "      <td>no</td>\n",
       "      <td>unknown</td>\n",
       "      <td>5</td>\n",
       "      <td>may</td>\n",
       "      <td>198.0</td>\n",
       "      <td>1</td>\n",
       "      <td>-1.0</td>\n",
       "      <td>0</td>\n",
       "      <td>unknown</td>\n",
       "      <td>no</td>\n",
       "    </tr>\n",
       "  </tbody>\n",
       "</table>\n",
       "</div>"
      ],
      "text/plain": [
       "   age           job  marital  education default  balance housing loan  \\\n",
       "0   58    management  married   tertiary      no   2143.0     yes   no   \n",
       "1   44    technician   single  secondary      no     29.0     yes   no   \n",
       "2   33  entrepreneur  married  secondary      no      2.0     yes  yes   \n",
       "3   47   blue-collar  married    unknown      no   1506.0     yes   no   \n",
       "4   33       unknown   single    unknown      no      1.0      no   no   \n",
       "\n",
       "   contact  day month  duration  campaign  pdays  previous poutcome   y  \n",
       "0  unknown    5   may     261.0         1   -1.0         0  unknown  no  \n",
       "1  unknown    5   may     151.0         1   -1.0         0  unknown  no  \n",
       "2  unknown    5   may      76.0         1   -1.0         0  unknown  no  \n",
       "3  unknown    5   may      92.0         1   -1.0         0  unknown  no  \n",
       "4  unknown    5   may     198.0         1   -1.0         0  unknown  no  "
      ]
     },
     "execution_count": 2,
     "metadata": {},
     "output_type": "execute_result"
    }
   ],
   "source": [
    "# Lectura\n",
    "data = pd.read_csv(\"../files/input/dataset_banco.csv\")\n",
    "data.head()"
   ]
  },
  {
   "cell_type": "code",
   "execution_count": 3,
   "metadata": {
    "colab": {
     "base_uri": "https://localhost:8080/"
    },
    "executionInfo": {
     "elapsed": 13,
     "status": "ok",
     "timestamp": 1671183682228,
     "user": {
      "displayName": "Miguel Sotaquirá",
      "userId": "08038952820764930757"
     },
     "user_tz": 300
    },
    "id": "gATCZsQPE3VQ",
    "outputId": "4e51a865-e961-4849-d5b8-130c40b76eab"
   },
   "outputs": [
    {
     "name": "stdout",
     "output_type": "stream",
     "text": [
      "<class 'pandas.core.frame.DataFrame'>\n",
      "RangeIndex: 45215 entries, 0 to 45214\n",
      "Data columns (total 17 columns):\n",
      " #   Column     Non-Null Count  Dtype  \n",
      "---  ------     --------------  -----  \n",
      " 0   age        45215 non-null  int64  \n",
      " 1   job        45213 non-null  object \n",
      " 2   marital    45214 non-null  object \n",
      " 3   education  45214 non-null  object \n",
      " 4   default    45215 non-null  object \n",
      " 5   balance    45213 non-null  float64\n",
      " 6   housing    45215 non-null  object \n",
      " 7   loan       45215 non-null  object \n",
      " 8   contact    45215 non-null  object \n",
      " 9   day        45215 non-null  int64  \n",
      " 10  month      45215 non-null  object \n",
      " 11  duration   45214 non-null  float64\n",
      " 12  campaign   45215 non-null  int64  \n",
      " 13  pdays      45214 non-null  float64\n",
      " 14  previous   45215 non-null  int64  \n",
      " 15  poutcome   45215 non-null  object \n",
      " 16  y          45215 non-null  object \n",
      "dtypes: float64(3), int64(4), object(10)\n",
      "memory usage: 5.9+ MB\n"
     ]
    }
   ],
   "source": [
    "# Veamos las variables categóricas y las numéricas\n",
    "data.info()"
   ]
  },
  {
   "cell_type": "markdown",
   "metadata": {
    "id": "CGUfF1eZaeoj"
   },
   "source": [
    "#4. Limpieza\n",
    "\n",
    "Realizaremos el proceso de limpieza teniendo en cuenta las situaciones más comunes:\n",
    "\n",
    "1. Datos faltantes en algunas celdas\n",
    "2. Columnas irrelevantes (que no responden al problema que queremos resolver)\n",
    "3. Registros (filas) repetidos\n",
    "4. Valores extremos (*outliers*) en el caso de las variables numéricas. Se deben analizar en detalle pues no necesariamente la solución es eliminarlos\n",
    "5. Errores tipográficos en el caso de las variables categóricas\n",
    "\n",
    "Al final de este proceso de limpieza deberíamos tener un set de datos **íntegro**, listo para la fase de Análisis Exploratorio."
   ]
  },
  {
   "cell_type": "markdown",
   "metadata": {
    "id": "zxyeciKcaClS"
   },
   "source": [
    "## 4.1 Datos faltantes\n",
    "\n",
    "Acá comenzamos a ver que los datos no están completos, pues no todas las columnas tienen la misma cantidad de registros.\n",
    "\n",
    "El número total de registros debería ser 45.215. Sin embargo columnas como \"job\", \"marital\", \"education\", \"balance\", \"duration\" y \"pdays\".\n",
    "\n",
    "Por ser tan pocos los datos  faltantes optaremos por eliminar las filas correspondientes:"
   ]
  },
  {
   "cell_type": "code",
   "execution_count": 4,
   "metadata": {
    "colab": {
     "base_uri": "https://localhost:8080/"
    },
    "executionInfo": {
     "elapsed": 217,
     "status": "ok",
     "timestamp": 1671183682435,
     "user": {
      "displayName": "Miguel Sotaquirá",
      "userId": "08038952820764930757"
     },
     "user_tz": 300
    },
    "id": "_KCHs7bvE-UR",
    "outputId": "9260b2d8-01e2-4e0b-abd7-d917c257c01b"
   },
   "outputs": [],
   "source": [
    "# Eliminar las filas con valores faltantes\n",
    "data = data.dropna()\n",
    "# CONTAR LOS VALORES FALTANTES DE DATA\n",
    "data.isnull().sum()\n",
    "# ELIMINAR DATOS DUPLICADOS\n",
    "data = data.drop_duplicates()"
   ]
  },
  {
   "cell_type": "markdown",
   "metadata": {
    "id": "4a2bJcMewV33"
   },
   "source": [
    "##4.2 Columnas irrelevantes\n",
    "\n",
    "Una columna irrelevante puede ser:\n",
    "\n",
    "- **Una columna que no contiene información relevante para el problema que queremos resolver**. Por ejemplo en este caso podría ser una columna que no guarde relación con el posible perfil del cliente (deporte favorito, hobbies, comida favorita, etc.)\n",
    "- **Una columna categórica pero con un sólo nivel**. Por ejemplo si en la columna \"job\" solo tuviésemos el nivel \"unknown\".\n",
    "- **Una columna numérica pero con un sólo valor**. Por ejemplo si en la columna \"edad\" todos los vlaores fuesen iguales a 50.\n",
    "- **Columnas con información redundante**. Por ejemplo si además de las columnas \"month\" y \"day\" tuviésemos la columna \"month-day\", resultado de combinar las dos anteriores.\n",
    "\n",
    "Si tenemos la duda de si alguna columna puede ser relevante o no lo mejor es dejarla (y más adelante en posteriores etapas podremos darnos cuenta de si se debe preservar o no).\n",
    "\n",
    "En este caso todas las columnas pueden resultar relevantes, pero debemos verificar que no haya columnas categóricas con un sólo nivel, o columnas numéricas con un sólo valor:"
   ]
  },
  {
   "cell_type": "code",
   "execution_count": 5,
   "metadata": {
    "id": "DpR6nqaWFfSf"
   },
   "outputs": [
    {
     "data": {
      "text/plain": [
       "age            85\n",
       "job            18\n",
       "marital         6\n",
       "education      10\n",
       "default         2\n",
       "balance      7168\n",
       "housing         2\n",
       "loan            6\n",
       "contact         5\n",
       "day            31\n",
       "month          12\n",
       "duration     1573\n",
       "campaign       48\n",
       "pdays         559\n",
       "previous       41\n",
       "poutcome        6\n",
       "y               2\n",
       "dtype: int64"
      ]
     },
     "execution_count": 5,
     "metadata": {},
     "output_type": "execute_result"
    }
   ],
   "source": [
    "# Conteo de los niveles en las diferentes columnas categóricas\n",
    "data.nunique()"
   ]
  },
  {
   "cell_type": "markdown",
   "metadata": {
    "id": "pCw6dYMryt0O"
   },
   "source": [
    "Todas las columnas categóricas tienen más de 1 subnivel. No eliminaremos ninguna.\n",
    "\n",
    "Verifiquemos lo que ocurre con las columnas numéricas:"
   ]
  },
  {
   "cell_type": "code",
   "execution_count": 6,
   "metadata": {
    "id": "KNPnGhhyG1Sk"
   },
   "outputs": [
    {
     "data": {
      "application/vnd.microsoft.datawrangler.viewer.v0+json": {
       "columns": [
        {
         "name": "index",
         "rawType": "object",
         "type": "string"
        },
        {
         "name": "age",
         "rawType": "float64",
         "type": "float"
        },
        {
         "name": "balance",
         "rawType": "float64",
         "type": "float"
        },
        {
         "name": "day",
         "rawType": "float64",
         "type": "float"
        },
        {
         "name": "duration",
         "rawType": "float64",
         "type": "float"
        },
        {
         "name": "campaign",
         "rawType": "float64",
         "type": "float"
        },
        {
         "name": "pdays",
         "rawType": "float64",
         "type": "float"
        },
        {
         "name": "previous",
         "rawType": "float64",
         "type": "float"
        }
       ],
       "conversionMethod": "pd.DataFrame",
       "ref": "51807a30-99d4-4efe-a976-1ce59e5a2c1a",
       "rows": [
        [
         "count",
         "45203.0",
         "45203.0",
         "45203.0",
         "45203.0",
         "45203.0",
         "45203.0",
         "45203.0"
        ],
        [
         "mean",
         "41.00517664756764",
         "1373.8939672145655",
         "15.807114572041678",
         "258.0397539986284",
         "2.7638431077583347",
         "40.177709444063446",
         "0.5801384863836471"
        ],
        [
         "std",
         "12.037387361767712",
         "3923.852085942331",
         "8.323017830810608",
         "257.4700453370751",
         "3.098168270859195",
         "100.10476807520486",
         "2.3033442287085215"
        ],
        [
         "min",
         "18.0",
         "-8019.0",
         "1.0",
         "-1389.0",
         "1.0",
         "-1.0",
         "0.0"
        ],
        [
         "25%",
         "33.0",
         "72.0",
         "8.0",
         "103.0",
         "1.0",
         "-1.0",
         "0.0"
        ],
        [
         "50%",
         "39.0",
         "448.0",
         "16.0",
         "180.0",
         "2.0",
         "-1.0",
         "0.0"
        ],
        [
         "75%",
         "48.0",
         "1427.5",
         "21.0",
         "319.0",
         "3.0",
         "-1.0",
         "0.0"
        ],
        [
         "max",
         "776.0",
         "527532.0",
         "31.0",
         "4918.0",
         "63.0",
         "871.0",
         "275.0"
        ]
       ],
       "shape": {
        "columns": 7,
        "rows": 8
       }
      },
      "text/html": [
       "<div>\n",
       "<style scoped>\n",
       "    .dataframe tbody tr th:only-of-type {\n",
       "        vertical-align: middle;\n",
       "    }\n",
       "\n",
       "    .dataframe tbody tr th {\n",
       "        vertical-align: top;\n",
       "    }\n",
       "\n",
       "    .dataframe thead th {\n",
       "        text-align: right;\n",
       "    }\n",
       "</style>\n",
       "<table border=\"1\" class=\"dataframe\">\n",
       "  <thead>\n",
       "    <tr style=\"text-align: right;\">\n",
       "      <th></th>\n",
       "      <th>age</th>\n",
       "      <th>balance</th>\n",
       "      <th>day</th>\n",
       "      <th>duration</th>\n",
       "      <th>campaign</th>\n",
       "      <th>pdays</th>\n",
       "      <th>previous</th>\n",
       "    </tr>\n",
       "  </thead>\n",
       "  <tbody>\n",
       "    <tr>\n",
       "      <th>count</th>\n",
       "      <td>45203.000000</td>\n",
       "      <td>45203.000000</td>\n",
       "      <td>45203.000000</td>\n",
       "      <td>45203.000000</td>\n",
       "      <td>45203.000000</td>\n",
       "      <td>45203.000000</td>\n",
       "      <td>45203.000000</td>\n",
       "    </tr>\n",
       "    <tr>\n",
       "      <th>mean</th>\n",
       "      <td>41.005177</td>\n",
       "      <td>1373.893967</td>\n",
       "      <td>15.807115</td>\n",
       "      <td>258.039754</td>\n",
       "      <td>2.763843</td>\n",
       "      <td>40.177709</td>\n",
       "      <td>0.580138</td>\n",
       "    </tr>\n",
       "    <tr>\n",
       "      <th>std</th>\n",
       "      <td>12.037387</td>\n",
       "      <td>3923.852086</td>\n",
       "      <td>8.323018</td>\n",
       "      <td>257.470045</td>\n",
       "      <td>3.098168</td>\n",
       "      <td>100.104768</td>\n",
       "      <td>2.303344</td>\n",
       "    </tr>\n",
       "    <tr>\n",
       "      <th>min</th>\n",
       "      <td>18.000000</td>\n",
       "      <td>-8019.000000</td>\n",
       "      <td>1.000000</td>\n",
       "      <td>-1389.000000</td>\n",
       "      <td>1.000000</td>\n",
       "      <td>-1.000000</td>\n",
       "      <td>0.000000</td>\n",
       "    </tr>\n",
       "    <tr>\n",
       "      <th>25%</th>\n",
       "      <td>33.000000</td>\n",
       "      <td>72.000000</td>\n",
       "      <td>8.000000</td>\n",
       "      <td>103.000000</td>\n",
       "      <td>1.000000</td>\n",
       "      <td>-1.000000</td>\n",
       "      <td>0.000000</td>\n",
       "    </tr>\n",
       "    <tr>\n",
       "      <th>50%</th>\n",
       "      <td>39.000000</td>\n",
       "      <td>448.000000</td>\n",
       "      <td>16.000000</td>\n",
       "      <td>180.000000</td>\n",
       "      <td>2.000000</td>\n",
       "      <td>-1.000000</td>\n",
       "      <td>0.000000</td>\n",
       "    </tr>\n",
       "    <tr>\n",
       "      <th>75%</th>\n",
       "      <td>48.000000</td>\n",
       "      <td>1427.500000</td>\n",
       "      <td>21.000000</td>\n",
       "      <td>319.000000</td>\n",
       "      <td>3.000000</td>\n",
       "      <td>-1.000000</td>\n",
       "      <td>0.000000</td>\n",
       "    </tr>\n",
       "    <tr>\n",
       "      <th>max</th>\n",
       "      <td>776.000000</td>\n",
       "      <td>527532.000000</td>\n",
       "      <td>31.000000</td>\n",
       "      <td>4918.000000</td>\n",
       "      <td>63.000000</td>\n",
       "      <td>871.000000</td>\n",
       "      <td>275.000000</td>\n",
       "    </tr>\n",
       "  </tbody>\n",
       "</table>\n",
       "</div>"
      ],
      "text/plain": [
       "                age        balance           day      duration      campaign  \\\n",
       "count  45203.000000   45203.000000  45203.000000  45203.000000  45203.000000   \n",
       "mean      41.005177    1373.893967     15.807115    258.039754      2.763843   \n",
       "std       12.037387    3923.852086      8.323018    257.470045      3.098168   \n",
       "min       18.000000   -8019.000000      1.000000  -1389.000000      1.000000   \n",
       "25%       33.000000      72.000000      8.000000    103.000000      1.000000   \n",
       "50%       39.000000     448.000000     16.000000    180.000000      2.000000   \n",
       "75%       48.000000    1427.500000     21.000000    319.000000      3.000000   \n",
       "max      776.000000  527532.000000     31.000000   4918.000000     63.000000   \n",
       "\n",
       "              pdays      previous  \n",
       "count  45203.000000  45203.000000  \n",
       "mean      40.177709      0.580138  \n",
       "std      100.104768      2.303344  \n",
       "min       -1.000000      0.000000  \n",
       "25%       -1.000000      0.000000  \n",
       "50%       -1.000000      0.000000  \n",
       "75%       -1.000000      0.000000  \n",
       "max      871.000000    275.000000  "
      ]
     },
     "execution_count": 6,
     "metadata": {},
     "output_type": "execute_result"
    }
   ],
   "source": [
    "# Estadistica descriptiva\n",
    "data.describe()"
   ]
  },
  {
   "cell_type": "markdown",
   "metadata": {
    "id": "o_ulm42Hy8nm"
   },
   "source": [
    "Todas las columnas numéricas tienen desviaciones estándar (\"std\") diferentes de cero, lo que indica que no tienen un único valor.\n",
    "\n",
    "Preservaremos todas las columnas numéricas."
   ]
  },
  {
   "cell_type": "markdown",
   "metadata": {
    "id": "WyPaJNZFzISZ"
   },
   "source": [
    "##4.3 Filas repetidas"
   ]
  },
  {
   "cell_type": "code",
   "execution_count": 7,
   "metadata": {
    "colab": {
     "base_uri": "https://localhost:8080/"
    },
    "executionInfo": {
     "elapsed": 14,
     "status": "ok",
     "timestamp": 1671183682439,
     "user": {
      "displayName": "Miguel Sotaquirá",
      "userId": "08038952820764930757"
     },
     "user_tz": 300
    },
    "id": "4U99PpRBG1-H",
    "outputId": "219195d5-f845-4e3f-af4c-411d2a8473e0"
   },
   "outputs": [
    {
     "data": {
      "application/vnd.microsoft.datawrangler.viewer.v0+json": {
       "columns": [
        {
         "name": "index",
         "rawType": "int64",
         "type": "integer"
        },
        {
         "name": "age",
         "rawType": "int64",
         "type": "integer"
        },
        {
         "name": "job",
         "rawType": "object",
         "type": "string"
        },
        {
         "name": "marital",
         "rawType": "object",
         "type": "string"
        },
        {
         "name": "education",
         "rawType": "object",
         "type": "string"
        },
        {
         "name": "default",
         "rawType": "object",
         "type": "string"
        },
        {
         "name": "balance",
         "rawType": "float64",
         "type": "float"
        },
        {
         "name": "housing",
         "rawType": "object",
         "type": "string"
        },
        {
         "name": "loan",
         "rawType": "object",
         "type": "string"
        },
        {
         "name": "contact",
         "rawType": "object",
         "type": "string"
        },
        {
         "name": "day",
         "rawType": "int64",
         "type": "integer"
        },
        {
         "name": "month",
         "rawType": "object",
         "type": "string"
        },
        {
         "name": "duration",
         "rawType": "float64",
         "type": "float"
        },
        {
         "name": "campaign",
         "rawType": "int64",
         "type": "integer"
        },
        {
         "name": "pdays",
         "rawType": "float64",
         "type": "float"
        },
        {
         "name": "previous",
         "rawType": "int64",
         "type": "integer"
        },
        {
         "name": "poutcome",
         "rawType": "object",
         "type": "string"
        },
        {
         "name": "y",
         "rawType": "object",
         "type": "string"
        }
       ],
       "conversionMethod": "pd.DataFrame",
       "ref": "ad2afccb-d8f4-4aee-80dc-0ceaa1c06aa5",
       "rows": [
        [
         "0",
         "58",
         "management",
         "married",
         "tertiary",
         "no",
         "2143.0",
         "yes",
         "no",
         "unknown",
         "5",
         "may",
         "261.0",
         "1",
         "-1.0",
         "0",
         "unknown",
         "no"
        ],
        [
         "1",
         "44",
         "technician",
         "single",
         "secondary",
         "no",
         "29.0",
         "yes",
         "no",
         "unknown",
         "5",
         "may",
         "151.0",
         "1",
         "-1.0",
         "0",
         "unknown",
         "no"
        ],
        [
         "2",
         "33",
         "entrepreneur",
         "married",
         "secondary",
         "no",
         "2.0",
         "yes",
         "yes",
         "unknown",
         "5",
         "may",
         "76.0",
         "1",
         "-1.0",
         "0",
         "unknown",
         "no"
        ],
        [
         "3",
         "47",
         "blue-collar",
         "married",
         "unknown",
         "no",
         "1506.0",
         "yes",
         "no",
         "unknown",
         "5",
         "may",
         "92.0",
         "1",
         "-1.0",
         "0",
         "unknown",
         "no"
        ],
        [
         "4",
         "33",
         "unknown",
         "single",
         "unknown",
         "no",
         "1.0",
         "no",
         "no",
         "unknown",
         "5",
         "may",
         "198.0",
         "1",
         "-1.0",
         "0",
         "unknown",
         "no"
        ],
        [
         "5",
         "35",
         "management",
         "married",
         "tertiary",
         "no",
         "231.0",
         "yes",
         "no",
         "unknown",
         "5",
         "may",
         "139.0",
         "1",
         "-1.0",
         "0",
         "unknown",
         "no"
        ],
        [
         "6",
         "28",
         "Management",
         "single",
         "tertiary",
         "no",
         "447.0",
         "yes",
         "yes",
         "unknown",
         "5",
         "may",
         "217.0",
         "1",
         "-1.0",
         "0",
         "unknown",
         "no"
        ],
        [
         "7",
         "42",
         "entrepreneur",
         "div.",
         "tertiary",
         "yes",
         "2.0",
         "yes",
         "no",
         "unknown",
         "5",
         "may",
         "380.0",
         "1",
         "-1.0",
         "0",
         "unknown",
         "no"
        ],
        [
         "8",
         "58",
         "retired",
         "married",
         "primary",
         "no",
         "121.0",
         "yes",
         "no",
         "unknown",
         "5",
         "may",
         "50.0",
         "1",
         "-1.0",
         "0",
         "unknown",
         "no"
        ],
        [
         "9",
         "43",
         "technician",
         "single",
         "secondary",
         "no",
         "593.0",
         "yes",
         "No",
         "unknown",
         "5",
         "may",
         "55.0",
         "1",
         "-1.0",
         "0",
         "unknown",
         "no"
        ],
        [
         "10",
         "41",
         "admin.",
         "div.",
         "secondary",
         "no",
         "270.0",
         "yes",
         "no",
         "unknown",
         "5",
         "may",
         "222.0",
         "1",
         "-1.0",
         "0",
         "unknown",
         "no"
        ],
        [
         "11",
         "29",
         "admin.",
         "single",
         "secondary",
         "no",
         "390.0",
         "yes",
         "no",
         "unknown",
         "5",
         "may",
         "137.0",
         "1",
         "-1.0",
         "0",
         "UNK",
         "no"
        ],
        [
         "12",
         "53",
         "technician",
         "married",
         "secondary",
         "no",
         "6.0",
         "yes",
         "no",
         "unknown",
         "5",
         "may",
         "-517.0",
         "1",
         "-1.0",
         "0",
         "unknown",
         "no"
        ],
        [
         "13",
         "58",
         "technician",
         "married",
         "unknown",
         "no",
         "71.0",
         "yes",
         "no",
         "unknown",
         "5",
         "may",
         "71.0",
         "1",
         "-1.0",
         "0",
         "unknown",
         "no"
        ],
        [
         "14",
         "57",
         "services",
         "married",
         "secondary",
         "no",
         "162.0",
         "yes",
         "No",
         "unknown",
         "5",
         "may",
         "174.0",
         "1",
         "-1.0",
         "0",
         "unknown",
         "no"
        ],
        [
         "15",
         "51",
         "retired",
         "married",
         "primary",
         "no",
         "229.0",
         "yes",
         "no",
         "unknown",
         "5",
         "may",
         "353.0",
         "1",
         "-1.0",
         "0",
         "unknown",
         "no"
        ],
        [
         "16",
         "45",
         "admin.",
         "single",
         "unknown",
         "no",
         "13.0",
         "yes",
         "no",
         "unknown",
         "5",
         "may",
         "98.0",
         "1",
         "-1.0",
         "0",
         "unknown",
         "no"
        ],
        [
         "17",
         "57",
         "blue-collar",
         "married",
         "primary",
         "no",
         "52.0",
         "yes",
         "no",
         "unknown",
         "5",
         "may",
         "38.0",
         "1",
         "-1.0",
         "0",
         "unknown",
         "no"
        ],
        [
         "18",
         "60",
         "retired",
         "married",
         "primary",
         "no",
         "60.0",
         "yes",
         "no",
         "unknown",
         "5",
         "may",
         "219.0",
         "1",
         "-1.0",
         "0",
         "unknown",
         "no"
        ],
        [
         "19",
         "33",
         "services",
         "married",
         "secondary",
         "no",
         "0.0",
         "yes",
         "no",
         "unknown",
         "5",
         "may",
         "54.0",
         "1",
         "-1.0",
         "0",
         "unknown",
         "no"
        ],
        [
         "20",
         "28",
         "blue-collar",
         "married",
         "secondary",
         "no",
         "723.0",
         "yes",
         "yes",
         "unknown",
         "5",
         "may",
         "262.0",
         "1",
         "-1.0",
         "0",
         "unknown",
         "no"
        ],
        [
         "21",
         "56",
         "management",
         "married",
         "tertiary",
         "no",
         "779.0",
         "yes",
         "no",
         "unknown",
         "5",
         "may",
         "164.0",
         "1",
         "-1.0",
         "0",
         "unknown",
         "no"
        ],
        [
         "22",
         "32",
         "blue-collar",
         "single",
         "primary",
         "no",
         "23.0",
         "yes",
         "yes",
         "unknown",
         "5",
         "may",
         "160.0",
         "1",
         "-1.0",
         "0",
         "unknown",
         "no"
        ],
        [
         "23",
         "25",
         "services",
         "married",
         "secondary",
         "no",
         "50.0",
         "yes",
         "no",
         "unknown",
         "5",
         "may",
         "342.0",
         "1",
         "-1.0",
         "0",
         "unknown",
         "no"
        ],
        [
         "24",
         "40",
         "retired",
         "married",
         "primary",
         "no",
         "0.0",
         "yes",
         "yes",
         "unknown",
         "5",
         "may",
         "181.0",
         "1",
         "-1.0",
         "0",
         "unknown",
         "no"
        ],
        [
         "25",
         "44",
         "admin.",
         "married",
         "secondary",
         "no",
         "-372.0",
         "yes",
         "no",
         "unknown",
         "5",
         "may",
         "172.0",
         "1",
         "-1.0",
         "0",
         "unknown",
         "no"
        ],
        [
         "26",
         "39",
         "management",
         "single",
         "tertiary",
         "no",
         "255.0",
         "yes",
         "no",
         "unknown",
         "5",
         "may",
         "296.0",
         "1",
         "-1.0",
         "0",
         "unknown",
         "no"
        ],
        [
         "27",
         "52",
         "entrepreneur",
         "married",
         "secondary",
         "no",
         "113.0",
         "yes",
         "yes",
         "unknown",
         "5",
         "may",
         "127.0",
         "1",
         "-1.0",
         "0",
         "unknown",
         "no"
        ],
        [
         "28",
         "46",
         "management",
         "single",
         "secondary",
         "no",
         "-246.0",
         "yes",
         "no",
         "unknown",
         "5",
         "may",
         "255.0",
         "2",
         "-1.0",
         "0",
         "unknown",
         "no"
        ],
        [
         "29",
         "36",
         "technician",
         "single",
         "secondary",
         "no",
         "265.0",
         "yes",
         "yes",
         "unknown",
         "5",
         "may",
         "348.0",
         "1",
         "-1.0",
         "0",
         "unknown",
         "no"
        ],
        [
         "30",
         "57",
         "technician",
         "married",
         "secondary",
         "no",
         "839.0",
         "no",
         "yes",
         "unknown",
         "5",
         "may",
         "225.0",
         "1",
         "-1.0",
         "0",
         "unknown",
         "no"
        ],
        [
         "31",
         "49",
         "management",
         "married",
         "tertiary",
         "no",
         "378.0",
         "yes",
         "no",
         "unknown",
         "5",
         "may",
         "230.0",
         "1",
         "-1.0",
         "0",
         "unknown",
         "no"
        ],
        [
         "32",
         "60",
         "admin.",
         "married",
         "secondary",
         "no",
         "39.0",
         "yes",
         "yes",
         "unknown",
         "5",
         "may",
         "208.0",
         "1",
         "-1.0",
         "0",
         "unknown",
         "no"
        ],
        [
         "33",
         "59",
         "blue-collar",
         "married",
         "secondary",
         "no",
         "0.0",
         "yes",
         "no",
         "unknown",
         "5",
         "may",
         "226.0",
         "1",
         "-1.0",
         "0",
         "unknown",
         "no"
        ],
        [
         "34",
         "51",
         "management",
         "married",
         "tertiary",
         "no",
         "10635.0",
         "yes",
         "no",
         "unknown",
         "5",
         "may",
         "336.0",
         "1",
         "-1.0",
         "0",
         "unknown",
         "no"
        ],
        [
         "35",
         "57",
         "technician",
         "divorced",
         "secondary",
         "no",
         "63.0",
         "yes",
         "no",
         "unknown",
         "5",
         "may",
         "242.0",
         "1",
         "-1.0",
         "0",
         "unknown",
         "no"
        ],
        [
         "36",
         "25",
         "blue-collar",
         "married",
         "secondary",
         "no",
         "-7.0",
         "yes",
         "no",
         "unknown",
         "5",
         "may",
         "365.0",
         "1",
         "-1.0",
         "0",
         "unknown",
         "no"
        ],
        [
         "37",
         "53",
         "technician",
         "married",
         "secondary",
         "no",
         "-3.0",
         "no",
         "no",
         "unknown",
         "5",
         "may",
         "1666.0",
         "1",
         "-1.0",
         "0",
         "unknown",
         "no"
        ],
        [
         "38",
         "36",
         "admin.",
         "divorced",
         "secondary",
         "no",
         "506.0",
         "yes",
         "no",
         "unknown",
         "5",
         "may",
         "577.0",
         "1",
         "-1.0",
         "0",
         "unknown",
         "no"
        ],
        [
         "39",
         "37",
         "admin.",
         "single",
         "secondary",
         "no",
         "0.0",
         "yes",
         "no",
         "unknown",
         "5",
         "may",
         "137.0",
         "1",
         "-1.0",
         "0",
         "unknown",
         "no"
        ],
        [
         "40",
         "44",
         "services",
         "divorced",
         "secondary",
         "no",
         "2586.0",
         "yes",
         "no",
         "unknown",
         "5",
         "may",
         "160.0",
         "1",
         "-1.0",
         "0",
         "unknown",
         "no"
        ],
        [
         "41",
         "50",
         "management",
         "married",
         "secondary",
         "no",
         "49.0",
         "yes",
         "no",
         "unknown",
         "5",
         "may",
         "180.0",
         "2",
         "-1.0",
         "0",
         "unknown",
         "no"
        ],
        [
         "42",
         "60",
         "blue-collar",
         "married",
         "unknown",
         "no",
         "104.0",
         "yes",
         "no",
         "unknown",
         "5",
         "may",
         "22.0",
         "1",
         "-1.0",
         "0",
         "unknown",
         "no"
        ],
        [
         "43",
         "54",
         "retired",
         "married",
         "secondary",
         "no",
         "529.0",
         "yes",
         "no",
         "unknown",
         "5",
         "may",
         "1492.0",
         "1",
         "-1.0",
         "0",
         "unknown",
         "no"
        ],
        [
         "44",
         "58",
         "retired",
         "married",
         "unknown",
         "no",
         "96.0",
         "yes",
         "no",
         "unknown",
         "5",
         "may",
         "616.0",
         "1",
         "-1.0",
         "0",
         "unknown",
         "no"
        ],
        [
         "45",
         "36",
         "admin.",
         "single",
         "primary",
         "no",
         "-171.0",
         "yes",
         "no",
         "unknown",
         "5",
         "may",
         "242.0",
         "1",
         "-1.0",
         "0",
         "unknown",
         "no"
        ],
        [
         "46",
         "58",
         "self-employed",
         "married",
         "tertiary",
         "no",
         "-364.0",
         "yes",
         "no",
         "unknown",
         "5",
         "may",
         "355.0",
         "1",
         "-1.0",
         "0",
         "unknown",
         "no"
        ],
        [
         "47",
         "44",
         "technician",
         "married",
         "secondary",
         "no",
         "0.0",
         "yes",
         "no",
         "unknown",
         "5",
         "may",
         "225.0",
         "2",
         "-1.0",
         "0",
         "unknown",
         "no"
        ],
        [
         "48",
         "55",
         "technician",
         "divorced",
         "secondary",
         "no",
         "0.0",
         "no",
         "no",
         "unknown",
         "5",
         "may",
         "160.0",
         "1",
         "-1.0",
         "0",
         "unknown",
         "no"
        ],
        [
         "49",
         "29",
         "Management",
         "single",
         "tertiary",
         "no",
         "0.0",
         "yes",
         "no",
         "unknown",
         "5",
         "may",
         "363.0",
         "1",
         "-1.0",
         "0",
         "unknown",
         "no"
        ]
       ],
       "shape": {
        "columns": 17,
        "rows": 45203
       }
      },
      "text/html": [
       "<div>\n",
       "<style scoped>\n",
       "    .dataframe tbody tr th:only-of-type {\n",
       "        vertical-align: middle;\n",
       "    }\n",
       "\n",
       "    .dataframe tbody tr th {\n",
       "        vertical-align: top;\n",
       "    }\n",
       "\n",
       "    .dataframe thead th {\n",
       "        text-align: right;\n",
       "    }\n",
       "</style>\n",
       "<table border=\"1\" class=\"dataframe\">\n",
       "  <thead>\n",
       "    <tr style=\"text-align: right;\">\n",
       "      <th></th>\n",
       "      <th>age</th>\n",
       "      <th>job</th>\n",
       "      <th>marital</th>\n",
       "      <th>education</th>\n",
       "      <th>default</th>\n",
       "      <th>balance</th>\n",
       "      <th>housing</th>\n",
       "      <th>loan</th>\n",
       "      <th>contact</th>\n",
       "      <th>day</th>\n",
       "      <th>month</th>\n",
       "      <th>duration</th>\n",
       "      <th>campaign</th>\n",
       "      <th>pdays</th>\n",
       "      <th>previous</th>\n",
       "      <th>poutcome</th>\n",
       "      <th>y</th>\n",
       "    </tr>\n",
       "  </thead>\n",
       "  <tbody>\n",
       "    <tr>\n",
       "      <th>0</th>\n",
       "      <td>58</td>\n",
       "      <td>management</td>\n",
       "      <td>married</td>\n",
       "      <td>tertiary</td>\n",
       "      <td>no</td>\n",
       "      <td>2143.0</td>\n",
       "      <td>yes</td>\n",
       "      <td>no</td>\n",
       "      <td>unknown</td>\n",
       "      <td>5</td>\n",
       "      <td>may</td>\n",
       "      <td>261.0</td>\n",
       "      <td>1</td>\n",
       "      <td>-1.0</td>\n",
       "      <td>0</td>\n",
       "      <td>unknown</td>\n",
       "      <td>no</td>\n",
       "    </tr>\n",
       "    <tr>\n",
       "      <th>1</th>\n",
       "      <td>44</td>\n",
       "      <td>technician</td>\n",
       "      <td>single</td>\n",
       "      <td>secondary</td>\n",
       "      <td>no</td>\n",
       "      <td>29.0</td>\n",
       "      <td>yes</td>\n",
       "      <td>no</td>\n",
       "      <td>unknown</td>\n",
       "      <td>5</td>\n",
       "      <td>may</td>\n",
       "      <td>151.0</td>\n",
       "      <td>1</td>\n",
       "      <td>-1.0</td>\n",
       "      <td>0</td>\n",
       "      <td>unknown</td>\n",
       "      <td>no</td>\n",
       "    </tr>\n",
       "    <tr>\n",
       "      <th>2</th>\n",
       "      <td>33</td>\n",
       "      <td>entrepreneur</td>\n",
       "      <td>married</td>\n",
       "      <td>secondary</td>\n",
       "      <td>no</td>\n",
       "      <td>2.0</td>\n",
       "      <td>yes</td>\n",
       "      <td>yes</td>\n",
       "      <td>unknown</td>\n",
       "      <td>5</td>\n",
       "      <td>may</td>\n",
       "      <td>76.0</td>\n",
       "      <td>1</td>\n",
       "      <td>-1.0</td>\n",
       "      <td>0</td>\n",
       "      <td>unknown</td>\n",
       "      <td>no</td>\n",
       "    </tr>\n",
       "    <tr>\n",
       "      <th>3</th>\n",
       "      <td>47</td>\n",
       "      <td>blue-collar</td>\n",
       "      <td>married</td>\n",
       "      <td>unknown</td>\n",
       "      <td>no</td>\n",
       "      <td>1506.0</td>\n",
       "      <td>yes</td>\n",
       "      <td>no</td>\n",
       "      <td>unknown</td>\n",
       "      <td>5</td>\n",
       "      <td>may</td>\n",
       "      <td>92.0</td>\n",
       "      <td>1</td>\n",
       "      <td>-1.0</td>\n",
       "      <td>0</td>\n",
       "      <td>unknown</td>\n",
       "      <td>no</td>\n",
       "    </tr>\n",
       "    <tr>\n",
       "      <th>4</th>\n",
       "      <td>33</td>\n",
       "      <td>unknown</td>\n",
       "      <td>single</td>\n",
       "      <td>unknown</td>\n",
       "      <td>no</td>\n",
       "      <td>1.0</td>\n",
       "      <td>no</td>\n",
       "      <td>no</td>\n",
       "      <td>unknown</td>\n",
       "      <td>5</td>\n",
       "      <td>may</td>\n",
       "      <td>198.0</td>\n",
       "      <td>1</td>\n",
       "      <td>-1.0</td>\n",
       "      <td>0</td>\n",
       "      <td>unknown</td>\n",
       "      <td>no</td>\n",
       "    </tr>\n",
       "    <tr>\n",
       "      <th>...</th>\n",
       "      <td>...</td>\n",
       "      <td>...</td>\n",
       "      <td>...</td>\n",
       "      <td>...</td>\n",
       "      <td>...</td>\n",
       "      <td>...</td>\n",
       "      <td>...</td>\n",
       "      <td>...</td>\n",
       "      <td>...</td>\n",
       "      <td>...</td>\n",
       "      <td>...</td>\n",
       "      <td>...</td>\n",
       "      <td>...</td>\n",
       "      <td>...</td>\n",
       "      <td>...</td>\n",
       "      <td>...</td>\n",
       "      <td>...</td>\n",
       "    </tr>\n",
       "    <tr>\n",
       "      <th>45210</th>\n",
       "      <td>51</td>\n",
       "      <td>technician</td>\n",
       "      <td>married</td>\n",
       "      <td>tertiary</td>\n",
       "      <td>no</td>\n",
       "      <td>825.0</td>\n",
       "      <td>no</td>\n",
       "      <td>no</td>\n",
       "      <td>cellular</td>\n",
       "      <td>17</td>\n",
       "      <td>nov</td>\n",
       "      <td>977.0</td>\n",
       "      <td>3</td>\n",
       "      <td>-1.0</td>\n",
       "      <td>0</td>\n",
       "      <td>unknown</td>\n",
       "      <td>yes</td>\n",
       "    </tr>\n",
       "    <tr>\n",
       "      <th>45211</th>\n",
       "      <td>71</td>\n",
       "      <td>retired</td>\n",
       "      <td>divorced</td>\n",
       "      <td>primary</td>\n",
       "      <td>no</td>\n",
       "      <td>1729.0</td>\n",
       "      <td>no</td>\n",
       "      <td>no</td>\n",
       "      <td>cellular</td>\n",
       "      <td>17</td>\n",
       "      <td>nov</td>\n",
       "      <td>456.0</td>\n",
       "      <td>2</td>\n",
       "      <td>-1.0</td>\n",
       "      <td>0</td>\n",
       "      <td>unknown</td>\n",
       "      <td>yes</td>\n",
       "    </tr>\n",
       "    <tr>\n",
       "      <th>45212</th>\n",
       "      <td>72</td>\n",
       "      <td>retired</td>\n",
       "      <td>married</td>\n",
       "      <td>secondary</td>\n",
       "      <td>no</td>\n",
       "      <td>5715.0</td>\n",
       "      <td>no</td>\n",
       "      <td>no</td>\n",
       "      <td>cellular</td>\n",
       "      <td>17</td>\n",
       "      <td>nov</td>\n",
       "      <td>1127.0</td>\n",
       "      <td>5</td>\n",
       "      <td>184.0</td>\n",
       "      <td>3</td>\n",
       "      <td>success</td>\n",
       "      <td>yes</td>\n",
       "    </tr>\n",
       "    <tr>\n",
       "      <th>45213</th>\n",
       "      <td>57</td>\n",
       "      <td>blue-collar</td>\n",
       "      <td>married</td>\n",
       "      <td>secondary</td>\n",
       "      <td>no</td>\n",
       "      <td>668.0</td>\n",
       "      <td>no</td>\n",
       "      <td>no</td>\n",
       "      <td>telephone</td>\n",
       "      <td>17</td>\n",
       "      <td>nov</td>\n",
       "      <td>508.0</td>\n",
       "      <td>4</td>\n",
       "      <td>-1.0</td>\n",
       "      <td>0</td>\n",
       "      <td>unknown</td>\n",
       "      <td>no</td>\n",
       "    </tr>\n",
       "    <tr>\n",
       "      <th>45214</th>\n",
       "      <td>37</td>\n",
       "      <td>entrepreneur</td>\n",
       "      <td>married</td>\n",
       "      <td>secondary</td>\n",
       "      <td>no</td>\n",
       "      <td>2971.0</td>\n",
       "      <td>no</td>\n",
       "      <td>no</td>\n",
       "      <td>cellular</td>\n",
       "      <td>17</td>\n",
       "      <td>nov</td>\n",
       "      <td>361.0</td>\n",
       "      <td>2</td>\n",
       "      <td>188.0</td>\n",
       "      <td>11</td>\n",
       "      <td>other</td>\n",
       "      <td>no</td>\n",
       "    </tr>\n",
       "  </tbody>\n",
       "</table>\n",
       "<p>45203 rows × 17 columns</p>\n",
       "</div>"
      ],
      "text/plain": [
       "       age           job   marital  education default  balance housing loan  \\\n",
       "0       58    management   married   tertiary      no   2143.0     yes   no   \n",
       "1       44    technician    single  secondary      no     29.0     yes   no   \n",
       "2       33  entrepreneur   married  secondary      no      2.0     yes  yes   \n",
       "3       47   blue-collar   married    unknown      no   1506.0     yes   no   \n",
       "4       33       unknown    single    unknown      no      1.0      no   no   \n",
       "...    ...           ...       ...        ...     ...      ...     ...  ...   \n",
       "45210   51    technician   married   tertiary      no    825.0      no   no   \n",
       "45211   71       retired  divorced    primary      no   1729.0      no   no   \n",
       "45212   72       retired   married  secondary      no   5715.0      no   no   \n",
       "45213   57   blue-collar   married  secondary      no    668.0      no   no   \n",
       "45214   37  entrepreneur   married  secondary      no   2971.0      no   no   \n",
       "\n",
       "         contact  day month  duration  campaign  pdays  previous poutcome    y  \n",
       "0        unknown    5   may     261.0         1   -1.0         0  unknown   no  \n",
       "1        unknown    5   may     151.0         1   -1.0         0  unknown   no  \n",
       "2        unknown    5   may      76.0         1   -1.0         0  unknown   no  \n",
       "3        unknown    5   may      92.0         1   -1.0         0  unknown   no  \n",
       "4        unknown    5   may     198.0         1   -1.0         0  unknown   no  \n",
       "...          ...  ...   ...       ...       ...    ...       ...      ...  ...  \n",
       "45210   cellular   17   nov     977.0         3   -1.0         0  unknown  yes  \n",
       "45211   cellular   17   nov     456.0         2   -1.0         0  unknown  yes  \n",
       "45212   cellular   17   nov    1127.0         5  184.0         3  success  yes  \n",
       "45213  telephone   17   nov     508.0         4   -1.0         0  unknown   no  \n",
       "45214   cellular   17   nov     361.0         2  188.0        11    other   no  \n",
       "\n",
       "[45203 rows x 17 columns]"
      ]
     },
     "execution_count": 7,
     "metadata": {},
     "output_type": "execute_result"
    }
   ],
   "source": [
    "data.drop_duplicates()\n",
    "data"
   ]
  },
  {
   "cell_type": "markdown",
   "metadata": {
    "id": "vAdN5qxyzpRV"
   },
   "source": [
    "##4.4 *Outliers* en las variables numéricas\n",
    "\n",
    "No siempre se deben eliminar los *outliers* porque dependiendo de la variable numérica analizada estos pueden contener información importante.\n",
    "\n",
    "Creemos gráficas tipo \"boxplot\" de las columnas numéricas:"
   ]
  },
  {
   "cell_type": "code",
   "execution_count": 8,
   "metadata": {},
   "outputs": [
    {
     "data": {
      "image/png": "[encoded data removed]",
      "text/plain": [
       "<Figure size 600x400 with 1 Axes>"
      ]
     },
     "metadata": {},
     "output_type": "display_data"
    },
    {
     "data": {
      "image/png": "[encoded data removed]",
      "text/plain": [
       "<Figure size 600x400 with 1 Axes>"
      ]
     },
     "metadata": {},
     "output_type": "display_data"
    },
    {
     "data": {
      "image/png": "[encoded data removed]",
      "text/plain": [
       "<Figure size 600x400 with 1 Axes>"
      ]
     },
     "metadata": {},
     "output_type": "display_data"
    },
    {
     "data": {
      "image/png": "[encoded data removed]",
      "text/plain": [
       "<Figure size 600x400 with 1 Axes>"
      ]
     },
     "metadata": {},
     "output_type": "display_data"
    },
    {
     "data": {
      "image/png": "[encoded data removed]",
      "text/plain": [
       "<Figure size 600x400 with 1 Axes>"
      ]
     },
     "metadata": {},
     "output_type": "display_data"
    },
    {
     "data": {
      "image/png": "[encoded data removed]",
      "text/plain": [
       "<Figure size 600x400 with 1 Axes>"
      ]
     },
     "metadata": {},
     "output_type": "display_data"
    },
    {
     "data": {
      "image/png": "[encoded data removed]",
      "text/plain": [
       "<Figure size 600x400 with 1 Axes>"
      ]
     },
     "metadata": {},
     "output_type": "display_data"
    }
   ],
   "source": [
    "# Generar gráficas individuales pues las variables numéricas\n",
    "# están en rangos diferentes\n",
    "import matplotlib.pyplot as plt\n",
    "\n",
    "# Lista de columnas numéricas\n",
    "columnas_numericas = [\"age\", \"balance\", \"day\", \"duration\", \"campaign\", \"pdays\", \"previous\"]\n",
    "\n",
    "# Generar un boxplot para cada variable numérica\n",
    "for columna in columnas_numericas:\n",
    "    plt.figure(figsize=(6, 4))\n",
    "    plt.boxplot(data[columna])\n",
    "    plt.title(f\"Boxplot de '{columna}'\")\n",
    "    plt.ylabel(columna)\n",
    "    plt.show()\n"
   ]
  },
  {
   "cell_type": "markdown",
   "metadata": {
    "id": "PXp7xuqB2qs6"
   },
   "source": [
    "**Observaciones:**\n",
    "- \"age\": hay sujetos con edades mucho mayores a 100 años\n",
    "- \"duration\": hay valores negativos\n",
    "- \"previous\": hay un valor extremadamente alto (cercano a 300)"
   ]
  },
  {
   "cell_type": "code",
   "execution_count": 9,
   "metadata": {
    "id": "EdX52H3x2qEp"
   },
   "outputs": [],
   "source": [
    "# Eliminar filas con \"age\">100\n",
    "data = data[data[\"age\"] < 100]"
   ]
  },
  {
   "cell_type": "code",
   "execution_count": 10,
   "metadata": {
    "id": "mc5imiIA3uSI"
   },
   "outputs": [],
   "source": [
    "# Eliminar filas con \"duration\"<0\n",
    "data = data[data[\"duration\"] > 0]"
   ]
  },
  {
   "cell_type": "code",
   "execution_count": 11,
   "metadata": {
    "id": "mtTOcbEn1b5X"
   },
   "outputs": [],
   "source": [
    "# Eliminar filas con \"previous\">100\n",
    "data = data[data[\"previous\"] < 100]"
   ]
  },
  {
   "cell_type": "markdown",
   "metadata": {
    "id": "Ys8L2CGb4vWq"
   },
   "source": [
    "##4.5 Errores tipográficos en variables categóricas\n",
    "\n",
    "En una variable categórica pueden aparecer sub-niveles como \"unknown\" y \"UNK\" que para nosotros son equivalentes pero que para nuestro programa parecerían diferentes.\n",
    "\n",
    "Se deben unificar estos sub-niveles"
   ]
  },
  {
   "cell_type": "code",
   "execution_count": 12,
   "metadata": {
    "id": "Euf8w52C5K39"
   },
   "outputs": [
    {
     "data": {
      "image/png": "[encoded data removed]",
      "text/plain": [
       "<Figure size 800x400 with 1 Axes>"
      ]
     },
     "metadata": {},
     "output_type": "display_data"
    },
    {
     "data": {
      "image/png": "[encoded data removed]",
      "text/plain": [
       "<Figure size 800x400 with 1 Axes>"
      ]
     },
     "metadata": {},
     "output_type": "display_data"
    },
    {
     "data": {
      "image/png": "[encoded data removed]",
      "text/plain": [
       "<Figure size 800x400 with 1 Axes>"
      ]
     },
     "metadata": {},
     "output_type": "display_data"
    },
    {
     "data": {
      "image/png": "[encoded data removed]",
      "text/plain": [
       "<Figure size 800x400 with 1 Axes>"
      ]
     },
     "metadata": {},
     "output_type": "display_data"
    },
    {
     "data": {
      "image/png": "[encoded data removed]",
      "text/plain": [
       "<Figure size 800x400 with 1 Axes>"
      ]
     },
     "metadata": {},
     "output_type": "display_data"
    },
    {
     "data": {
      "image/png": "[encoded data removed]",
      "text/plain": [
       "<Figure size 800x400 with 1 Axes>"
      ]
     },
     "metadata": {},
     "output_type": "display_data"
    },
    {
     "data": {
      "image/png": "[encoded data removed]",
      "text/plain": [
       "<Figure size 800x400 with 1 Axes>"
      ]
     },
     "metadata": {},
     "output_type": "display_data"
    },
    {
     "data": {
      "image/png": "[encoded data removed]",
      "text/plain": [
       "<Figure size 800x400 with 1 Axes>"
      ]
     },
     "metadata": {},
     "output_type": "display_data"
    },
    {
     "data": {
      "image/png": "[encoded data removed]",
      "text/plain": [
       "<Figure size 800x400 with 1 Axes>"
      ]
     },
     "metadata": {},
     "output_type": "display_data"
    },
    {
     "data": {
      "image/png": "[encoded data removed]",
      "text/plain": [
       "<Figure size 800x400 with 1 Axes>"
      ]
     },
     "metadata": {},
     "output_type": "display_data"
    }
   ],
   "source": [
    "import matplotlib.pyplot as plt\n",
    "\n",
    "# Seleccionar las columnas categóricas\n",
    "columnas_categoricas = data.select_dtypes(include=['object', 'category']).columns\n",
    "\n",
    "# Unificar subniveles convirtiendo todo a minúsculas y graficar\n",
    "for columna in columnas_categoricas:\n",
    "    # Convertir todos los valores a minúsculas\n",
    "    data[columna] = data[columna].str.lower()\n",
    "    \n",
    "    # Graficar la frecuencia de cada subnivel unificado\n",
    "    plt.figure(figsize=(8, 4))\n",
    "    data[columna].value_counts().plot(kind='bar')\n",
    "    plt.title(f\"Frecuencia de subniveles en '{columna}'\")\n",
    "    plt.xlabel(\"Subniveles\")\n",
    "    plt.ylabel(\"Frecuencia\")\n",
    "    plt.show()"
   ]
  },
  {
   "cell_type": "markdown",
   "metadata": {
    "id": "D1gBENL_5hW7"
   },
   "source": [
    "Inicialmente se observa que hay sub-niveles con el mismo nombre pero escritos en minúscula, en mayúscula o con la primera letra en mayúscula.\n",
    "\n",
    "Unifiquemos estos sub-niveles inicialmente:"
   ]
  },
  {
   "cell_type": "code",
   "execution_count": 13,
   "metadata": {
    "id": "uSESKHcD67bx"
   },
   "outputs": [],
   "source": [
    "# job: unificar admin. y administrative\n",
    "data[\"job\"] = data[\"job\"].replace(\"admin.\", \"administrative\")\n"
   ]
  },
  {
   "cell_type": "code",
   "execution_count": 14,
   "metadata": {
    "id": "Pyc3HuMZ8S3j"
   },
   "outputs": [],
   "source": [
    "# marital: unificar div. y divorced\n",
    "data[\"marital\"] = data[\"marital\"].replace(\"div.\", \"divorced\")"
   ]
  },
  {
   "cell_type": "code",
   "execution_count": 15,
   "metadata": {
    "id": "KyoDsJeI-BMV"
   },
   "outputs": [],
   "source": [
    "# education: unificar sec. y secondary, unk y unknown\n",
    "data[\"education\"] = data[\"education\"].replace(\"sec.\", \"secondary\")\n",
    "data[\"education\"] = data[\"education\"].replace(\"unk\", \"unknown\")"
   ]
  },
  {
   "cell_type": "code",
   "execution_count": 16,
   "metadata": {
    "id": "hxzP331D_sMN"
   },
   "outputs": [],
   "source": [
    "# contact: unificar telephone y phone\n",
    "data[\"contact\"] = data[\"contact\"].replace(\"telephone\", \"phone\")"
   ]
  },
  {
   "cell_type": "code",
   "execution_count": 17,
   "metadata": {
    "id": "24zBZHfi_-VT"
   },
   "outputs": [],
   "source": [
    "# poutcome: unificar unk y unknown\n",
    "data[\"poutcome\"] = data[\"poutcome\"].replace(\"unk\", \"unknown\")"
   ]
  },
  {
   "cell_type": "code",
   "execution_count": 18,
   "metadata": {
    "colab": {
     "base_uri": "https://localhost:8080/"
    },
    "executionInfo": {
     "elapsed": 13,
     "status": "ok",
     "timestamp": 1671183687673,
     "user": {
      "displayName": "Miguel Sotaquirá",
      "userId": "08038952820764930757"
     },
     "user_tz": 300
    },
    "id": "6rUd2kpuAJqt",
    "outputId": "f6420f3a-94c1-4980-8288-4900a7b71fb9"
   },
   "outputs": [
    {
     "data": {
      "text/plain": [
       "(45189, 17)"
      ]
     },
     "execution_count": 18,
     "metadata": {},
     "output_type": "execute_result"
    }
   ],
   "source": [
    "data.shape"
   ]
  },
  {
   "cell_type": "markdown",
   "metadata": {
    "id": "wgOD_fSUAIOt"
   },
   "source": [
    "¡Y listo, ya hemos realizado la limpieza de nuestro set de datos!\n",
    "\n",
    "Originalmente tenía 45.215 registros y 17 columnas. El dataset resultante tiene 45.189 filas (26 menos) y 17 columnas.\n",
    "\n",
    "El set de datos ya está listo para el Análisis Exploratorio."
   ]
  },
  {
   "cell_type": "code",
   "execution_count": 19,
   "metadata": {
    "id": "s90V96SlBOL0"
   },
   "outputs": [],
   "source": [
    "# Crear nuevo archivo csv a partir de dataframe\n",
    "ruta = \"dataset_banco_clean.csv\"\n",
    "data.to_csv(ruta, index=False)"
   ]
  }
 ],
 "metadata": {
  "colab": {
   "provenance": [],
   "toc_visible": true
  },
  "kernelspec": {
   "display_name": ".venv",
   "language": "python",
   "name": "python3"
  },
  "language_info": {
   "codemirror_mode": {
    "name": "ipython",
    "version": 3
   },
   "file_extension": ".py",
   "mimetype": "text/x-python",
   "name": "python",
   "nbconvert_exporter": "python",
   "pygments_lexer": "ipython3",
   "version": "3.10.10"
  }
 },
 "nbformat": 4,
 "nbformat_minor": 0
}
